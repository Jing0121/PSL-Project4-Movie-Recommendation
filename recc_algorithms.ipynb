{
 "cells": [
  {
   "cell_type": "markdown",
   "metadata": {},
   "source": [
    "# Movie Recommender System\n",
    "\n",
    "Jing Huang, Xiao Zhang,\n",
    "\n",
    "The goal of this project is to predict the ratings that a user would give to movies not rated by the user, and find the movies most likely to be liked by user. Four different algorithms are implemented in this project:\n",
    "* Simple Recommender Systems\n",
    "    * Simple Recommender Systems based on Ratings\n",
    "    * Popularity Based Recommender Systems\n",
    "* Collabortive Filtering\n",
    "    * SVD\n",
    "    * User-based Collabortive Filtering"
   ]
  },
  {
   "cell_type": "code",
   "execution_count": 1,
   "metadata": {
    "id": "tufAKgVhyh_S"
   },
   "outputs": [],
   "source": [
    "# import dash\n",
    "# import dash_bootstrap_components as dbc\n",
    "# import dash_html_components as html\n",
    "# import dash_core_components as dcc\n",
    "import numpy as np\n",
    "import pandas as pd\n",
    "from IPython.display import Markdown, display\n",
    "from sklearn.metrics.pairwise import cosine_similarity\n",
    "import operator"
   ]
  },
  {
   "cell_type": "code",
   "execution_count": 2,
   "metadata": {
    "id": "xszcs5nmyh_b",
    "outputId": "4c6d87ce-0887-4dbc-ed50-8f6022f81fd4"
   },
   "outputs": [
    {
     "data": {
      "text/html": [
       "<div>\n",
       "<style scoped>\n",
       "    .dataframe tbody tr th:only-of-type {\n",
       "        vertical-align: middle;\n",
       "    }\n",
       "\n",
       "    .dataframe tbody tr th {\n",
       "        vertical-align: top;\n",
       "    }\n",
       "\n",
       "    .dataframe thead th {\n",
       "        text-align: right;\n",
       "    }\n",
       "</style>\n",
       "<table border=\"1\" class=\"dataframe\">\n",
       "  <thead>\n",
       "    <tr style=\"text-align: right;\">\n",
       "      <th></th>\n",
       "      <th>MovieID</th>\n",
       "      <th>Title</th>\n",
       "      <th>Genres</th>\n",
       "    </tr>\n",
       "  </thead>\n",
       "  <tbody>\n",
       "    <tr>\n",
       "      <th>0</th>\n",
       "      <td>1</td>\n",
       "      <td>Toy Story (1995)</td>\n",
       "      <td>Animation|Children's|Comedy</td>\n",
       "    </tr>\n",
       "    <tr>\n",
       "      <th>1</th>\n",
       "      <td>2</td>\n",
       "      <td>Jumanji (1995)</td>\n",
       "      <td>Adventure|Children's|Fantasy</td>\n",
       "    </tr>\n",
       "    <tr>\n",
       "      <th>2</th>\n",
       "      <td>3</td>\n",
       "      <td>Grumpier Old Men (1995)</td>\n",
       "      <td>Comedy|Romance</td>\n",
       "    </tr>\n",
       "    <tr>\n",
       "      <th>3</th>\n",
       "      <td>4</td>\n",
       "      <td>Waiting to Exhale (1995)</td>\n",
       "      <td>Comedy|Drama</td>\n",
       "    </tr>\n",
       "    <tr>\n",
       "      <th>4</th>\n",
       "      <td>5</td>\n",
       "      <td>Father of the Bride Part II (1995)</td>\n",
       "      <td>Comedy</td>\n",
       "    </tr>\n",
       "  </tbody>\n",
       "</table>\n",
       "</div>"
      ],
      "text/plain": [
       "   MovieID                               Title                        Genres\n",
       "0        1                    Toy Story (1995)   Animation|Children's|Comedy\n",
       "1        2                      Jumanji (1995)  Adventure|Children's|Fantasy\n",
       "2        3             Grumpier Old Men (1995)                Comedy|Romance\n",
       "3        4            Waiting to Exhale (1995)                  Comedy|Drama\n",
       "4        5  Father of the Bride Part II (1995)                        Comedy"
      ]
     },
     "execution_count": 2,
     "metadata": {},
     "output_type": "execute_result"
    }
   ],
   "source": [
    "ratings = pd.read_csv('ratings.dat', sep=':', header=None)\n",
    "ratings = ratings.dropna(axis=1)\n",
    "ratings.columns = ['UserID', 'MovieID', 'Rating', 'Timestamp']\n",
    "\n",
    "movies = pd.read_csv('movies.dat', sep='::', header=None, encoding='latin-1',engine='python')\n",
    "movies.columns = ['MovieID', 'Title', 'Genres']\n",
    "\n",
    "users = pd.read_csv('users.dat', sep=':', header=None, encoding='latin-1')\n",
    "users = users.dropna(axis=1)\n",
    "users.columns = ['UserID', 'Gender', 'Age', 'Occupation', 'Zip-code']\n",
    "\n",
    "movies.head()"
   ]
  },
  {
   "cell_type": "markdown",
   "metadata": {},
   "source": [
    "### Number of Movies"
   ]
  },
  {
   "cell_type": "code",
   "execution_count": 3,
   "metadata": {
    "id": "U8seNlNzyh_c",
    "outputId": "0dacbcdb-9b55-4e90-f05a-bae7f06313e9"
   },
   "outputs": [
    {
     "data": {
      "text/plain": [
       "3706"
      ]
     },
     "execution_count": 3,
     "metadata": {},
     "output_type": "execute_result"
    }
   ],
   "source": [
    "# ratings.head()\n",
    "#total number of movies\n",
    "len(ratings['MovieID'].unique())"
   ]
  },
  {
   "cell_type": "markdown",
   "metadata": {},
   "source": [
    "### Number of unique users:"
   ]
  },
  {
   "cell_type": "code",
   "execution_count": 4,
   "metadata": {},
   "outputs": [
    {
     "data": {
      "text/plain": [
       "6040"
      ]
     },
     "execution_count": 4,
     "metadata": {},
     "output_type": "execute_result"
    }
   ],
   "source": [
    "len(ratings['UserID'].unique())"
   ]
  },
  {
   "cell_type": "code",
   "execution_count": 5,
   "metadata": {
    "id": "k29yQ9Osyh_c",
    "outputId": "e8ccf626-e27f-49c8-b250-3208a99c14b9"
   },
   "outputs": [
    {
     "data": {
      "text/plain": [
       "UserID        0\n",
       "Gender        0\n",
       "Age           0\n",
       "Occupation    0\n",
       "Zip-code      0\n",
       "dtype: int64"
      ]
     },
     "metadata": {},
     "output_type": "display_data"
    }
   ],
   "source": [
    "display(users.isna().sum().sort_values())"
   ]
  },
  {
   "cell_type": "markdown",
   "metadata": {
    "id": "bBg-Vi3fyh_d"
   },
   "source": [
    "### Get a list of genres in this dataset"
   ]
  },
  {
   "cell_type": "code",
   "execution_count": 6,
   "metadata": {
    "id": "cU8SRRMVyh_d",
    "outputId": "a80bf85b-36a8-4805-e73b-6a25d1ee633e"
   },
   "outputs": [
    {
     "name": "stdout",
     "output_type": "stream",
     "text": [
      "['Horror', \"Children's\", 'Drama', 'Sci-Fi', 'Comedy', 'Mystery', 'Western', 'Crime', 'Documentary', 'War', 'Thriller', 'Musical', 'Adventure', 'Film-Noir', 'Animation', 'Romance', 'Fantasy', 'Action']\n"
     ]
    }
   ],
   "source": [
    "genres = movies['Genres'].str.split('|')\n",
    "genres_list = list(set(np.concatenate(genres).flat))\n",
    "print(genres_list)\n"
   ]
  },
  {
   "cell_type": "code",
   "execution_count": null,
   "metadata": {},
   "outputs": [],
   "source": [
    "# sample= movies[movies['Title'].str.contains('Army of Darkness')]\n",
    "# sample.head() "
   ]
  },
  {
   "cell_type": "markdown",
   "metadata": {
    "id": "aJRbiPOByh_c"
   },
   "source": [
    "# Simple Recommonder Systems\n",
    " ## recommondation based on ratings \n",
    "\n",
    "This simple recommender system does not require users information, it provides the same recommendations for all users based on the genre chosen by the user. For this simple recommender system, a genre is first selected by the user, then up to 6 movies are returned in the given genre.\n",
    "\n",
    "In this algorithm, recommondation is provided based on averaged user ratings. We noticed that there are some movies that received only one 5-star rating, their averaged rating is thus 5. However, these moives should be excluded. Therefore, the movie data are first filtered, only the movies that received more ratings than at least 80% of the movies are considered. The procedure for this algorithm is as follows:\n",
    "1.\tLeft join movie data with ratings data on the index ‘MovieID’\n",
    "2.\tFilter the movies data based on genre selected by the user\n",
    "3.\tCalculate number of ratings that each movie received, calculate 80% quantile as cutoff\n",
    "4.\tFilter out the movies that received less ratings than 80% of all other movies.\n",
    "5.\tSort movies by averaged rating, select the top 5 movies as output.\n"
   ]
  },
  {
   "cell_type": "code",
   "execution_count": 18,
   "metadata": {
    "id": "suSvvI65yh_d",
    "outputId": "b921fbf1-e55b-484f-d8cc-15a737622ffd"
   },
   "outputs": [
    {
     "name": "stdout",
     "output_type": "stream",
     "text": [
      "reccomendations for the genre: Romance \n",
      "\n",
      "                              Rating  count\n",
      "Title                                      \n",
      "Casablanca (1942)           4.412822   1669\n",
      "Princess Bride, The (1987)  4.303710   2318\n",
      "Graduate, The (1967)        4.245837   1261\n",
      "Annie Hall (1977)           4.141679   1334\n",
      "Shakespeare in Love (1998)  4.127480   2369\n",
      "\n",
      "\n",
      "reccomendations for the genre: Adventure \n",
      "\n",
      "                                                      Rating  count\n",
      "Title                                                              \n",
      "Raiders of the Lost Ark (1981)                      4.477725   2514\n",
      "Star Wars: Episode IV - A New Hope (1977)           4.453694   2991\n",
      "Princess Bride, The (1987)                          4.303710   2318\n",
      "Star Wars: Episode V - The Empire Strikes Back ...  4.292977   2990\n",
      "Stand by Me (1986)                                  4.096919   1785\n",
      "\n",
      "\n"
     ]
    }
   ],
   "source": [
    "\n",
    "def recc_genre_by_rating(movies,ratings,genre):\n",
    "    movies = movies.copy()\n",
    "    ratings = ratings.copy()\n",
    "    mov_rating=movies.set_index('MovieID').join(ratings.set_index('MovieID'),how ='left',on ='MovieID')\n",
    "    mov_rating =mov_rating[mov_rating['Genres'].str.contains(genre)]\n",
    "    mov_rating['count']=mov_rating['UserID'].groupby(mov_rating['Title']).transform('count')\n",
    "    #only movies that received more number of ratings than 90% of all the movies in the genre are considered\n",
    "    cutoff = mov_rating['count'].quantile(0.8)\n",
    "    mov_rating = mov_rating[mov_rating['count']>=cutoff].drop(['UserID','Timestamp'],axis=1)\n",
    "    mov_rating_mean = mov_rating.groupby('Title').mean().sort_values(by=['Rating','count'], ascending=False)\n",
    "    \n",
    "    return mov_rating_mean.head(5)\n",
    "    \n",
    "#testing: only show results for the first two genres\n",
    "for i in genres_list[:2]:\n",
    "    \n",
    "    recc_genre = recc_genre_by_rating(movies,ratings,i)\n",
    "    print('reccomendations for the genre:',i,'\\n')\n",
    "    print(recc_genre.head())\n",
    "    print('\\n')"
   ]
  },
  {
   "cell_type": "code",
   "execution_count": 14,
   "metadata": {},
   "outputs": [
    {
     "name": "stdout",
     "output_type": "stream",
     "text": [
      "reccomendations for the genre: Drama \n",
      "\n",
      "           Rating  count\n",
      "MovieID                 \n",
      "318      4.554558   2227\n",
      "858      4.524966   2223\n",
      "527      4.510417   2304\n",
      "912      4.412822   1669\n",
      "1193     4.390725   1725\n",
      "\n",
      "\n",
      "reccomendations for the genre: Children's \n",
      "\n",
      "           Rating  count\n",
      "MovieID                 \n",
      "919      4.247963   1718\n",
      "3114     4.218927   1585\n",
      "1        4.146846   2077\n",
      "1097     3.965183   2269\n",
      "34       3.891491   1751\n",
      "\n",
      "\n",
      "reccomendations for the genre: Animation \n",
      "\n",
      "           Rating  count\n",
      "MovieID                 \n",
      "3114     4.218927   1585\n",
      "1        4.146846   2077\n",
      "3751     3.879609   1329\n",
      "2355     3.854375   1703\n",
      "588      3.788305   1351\n",
      "\n",
      "\n",
      "reccomendations for the genre: Crime \n",
      "\n",
      "           Rating  count\n",
      "MovieID                 \n",
      "858      4.524966   2223\n",
      "50       4.517106   1783\n",
      "1221     4.357565   1692\n",
      "296      4.278213   2171\n",
      "1213     4.275196   1657\n",
      "\n",
      "\n",
      "reccomendations for the genre: Comedy \n",
      "\n",
      "           Rating  count\n",
      "MovieID                 \n",
      "1136     4.335210   1599\n",
      "2858     4.317386   3428\n",
      "1197     4.303710   2318\n",
      "2804     4.238905   1352\n",
      "3114     4.218927   1585\n",
      "\n",
      "\n",
      "reccomendations for the genre: Thriller \n",
      "\n",
      "           Rating  count\n",
      "MovieID                 \n",
      "50       4.517106   1783\n",
      "2762     4.406263   2459\n",
      "593      4.351823   2578\n",
      "2571     4.315830   2590\n",
      "608      4.254676   2513\n",
      "\n",
      "\n",
      "reccomendations for the genre: Horror \n",
      "\n",
      "           Rating  count\n",
      "MovieID                 \n",
      "1278     4.250629   1193\n",
      "1219     4.218527   1263\n",
      "1214     4.159585   2024\n",
      "1258     4.104876   1087\n",
      "1387     4.089570   1697\n",
      "\n",
      "\n",
      "reccomendations for the genre: Fantasy \n",
      "\n",
      "           Rating  count\n",
      "MovieID                 \n",
      "260      4.453694   2991\n",
      "1097     3.965183   2269\n",
      "2628     3.409778   2250\n",
      "\n",
      "\n",
      "reccomendations for the genre: Romance \n",
      "\n",
      "           Rating  count\n",
      "MovieID                 \n",
      "912      4.412822   1669\n",
      "1197     4.303710   2318\n",
      "1247     4.245837   1261\n",
      "1230     4.141679   1334\n",
      "2396     4.127480   2369\n",
      "\n",
      "\n",
      "reccomendations for the genre: Adventure \n",
      "\n",
      "           Rating  count\n",
      "MovieID                 \n",
      "1198     4.477725   2514\n",
      "260      4.453694   2991\n",
      "1197     4.303710   2318\n",
      "1196     4.292977   2990\n",
      "1259     4.096919   1785\n",
      "\n",
      "\n",
      "reccomendations for the genre: Musical \n",
      "\n",
      "           Rating  count\n",
      "MovieID                 \n",
      "919      4.247963   1718\n",
      "1288     4.179785   1118\n",
      "1220     3.939597   1341\n",
      "595      3.885849   1060\n",
      "364      3.860839   1121\n",
      "\n",
      "\n",
      "reccomendations for the genre: Western \n",
      "\n",
      "           Rating  count\n",
      "MovieID                 \n",
      "1304     4.215645   1419\n",
      "3671     4.047364   1119\n",
      "590      3.915231   1451\n",
      "2012     3.242160   1148\n",
      "\n",
      "\n",
      "reccomendations for the genre: War \n",
      "\n",
      "           Rating  count\n",
      "MovieID                 \n",
      "527      4.510417   2304\n",
      "2028     4.337354   2653\n",
      "1196     4.292977   2990\n",
      "110      4.234957   2443\n",
      "356      4.087967   2194\n",
      "\n",
      "\n",
      "reccomendations for the genre: Sci-Fi \n",
      "\n",
      "           Rating  count\n",
      "MovieID                 \n",
      "260      4.453694   2991\n",
      "2571     4.315830   2590\n",
      "1196     4.292977   2990\n",
      "1214     4.159585   2024\n",
      "1240     4.152050   2098\n",
      "\n",
      "\n",
      "reccomendations for the genre: Action \n",
      "\n",
      "           Rating  count\n",
      "MovieID                 \n",
      "858      4.524966   2223\n",
      "1198     4.477725   2514\n",
      "260      4.453694   2991\n",
      "1221     4.357565   1692\n",
      "2028     4.337354   2653\n",
      "\n",
      "\n",
      "reccomendations for the genre: Documentary \n",
      "\n",
      "           Rating  count\n",
      "MovieID                 \n",
      "246      4.188547    716\n",
      "2064     4.073935    798\n",
      "162      4.063136    491\n",
      "\n",
      "\n",
      "reccomendations for the genre: Mystery \n",
      "\n",
      "           Rating  count\n",
      "MovieID                 \n",
      "1252     4.339241   1185\n",
      "1617     4.219406   2288\n",
      "924      4.068765   1716\n",
      "3176     3.503381   1331\n",
      "648      3.432875   1527\n",
      "\n",
      "\n",
      "reccomendations for the genre: Film-Noir \n",
      "\n",
      "           Rating  count\n",
      "MovieID                 \n",
      "541      4.273333   1800\n",
      "1617     4.219406   2288\n",
      "\n",
      "\n"
     ]
    }
   ],
   "source": [
    "def recc_genre_by_rating_ID(movies,ratings,genre):\n",
    "    movies = movies.copy()\n",
    "    ratings = ratings.copy()\n",
    "    mov_rating=movies.set_index('MovieID').join(ratings.set_index('MovieID'),how ='left',on ='MovieID')\n",
    "    mov_rating =mov_rating[mov_rating['Genres'].str.contains(genre)]\n",
    "    mov_rating['count']=mov_rating['UserID'].groupby(mov_rating['Title']).transform('count')\n",
    "    #only movies that received more number of ratings than 90% of all the movies in the genre are considered\n",
    "    cutoff = mov_rating['count'].quantile(0.8)\n",
    "    mov_rating = mov_rating[mov_rating['count']>=cutoff].drop(['UserID','Timestamp'],axis=1)\n",
    "    mov_rating_mean = mov_rating.groupby('MovieID').mean().sort_values(by=['Rating','count'], ascending=False)\n",
    "    \n",
    "    return mov_rating_mean.head(5)\n",
    "    \n",
    "#testing: only show results for the first two genres\n",
    "for i in genres_list[:2]:\n",
    "    \n",
    "    recc_genre = recc_genre_by_rating_ID(movies,ratings,i)\n",
    "    print('reccomendations for the genre:',i,'\\n')\n",
    "    print(recc_genre.head())\n",
    "    print('\\n')"
   ]
  },
  {
   "cell_type": "markdown",
   "metadata": {},
   "source": [
    "## Recommendation based on popularity\n",
    "In this approach, the popularity is measured based on number of user ratings. i.e.a movie receives more ratings is considered to be more popular. The general procedure is as follows:\n",
    "1.\tLeft join movie data with ratings data on the index ‘MovieID’\n",
    "2.\tFilter the movies data based on genre selected by the user\n",
    "3.\tCalculate the averaged rating of each movie received, calculate 80% quantile as cutoff\n",
    "4.\tFilter out the movies that received less score than 80% of all other movies.\n",
    "5.\tSort movies by number of ratings, select the top 5 movies as output.\n"
   ]
  },
  {
   "cell_type": "code",
   "execution_count": 9,
   "metadata": {
    "id": "uCbXxfDayh_e",
    "outputId": "b338cb25-2ed7-4411-d4c3-a2bc0f7769da"
   },
   "outputs": [
    {
     "name": "stdout",
     "output_type": "stream",
     "text": [
      "reccomendations for the genre: Fantasy \n",
      "\n",
      "                                              count  avg_rating\n",
      "Title                                                          \n",
      "Star Wars: Episode IV - A New Hope (1977)      2991    4.453694\n",
      "E.T. the Extra-Terrestrial (1982)              2269    3.965183\n",
      "Big (1988)                                     1491    3.855801\n",
      "Willy Wonka and the Chocolate Factory (1971)   1313    3.861386\n",
      "Heavenly Creatures (1994)                       477    3.865828\n",
      "\n",
      "\n",
      "reccomendations for the genre: War \n",
      "\n",
      "                                                    count  avg_rating\n",
      "Title                                                                \n",
      "Star Wars: Episode V - The Empire Strikes Back ...   2990    4.292977\n",
      "Saving Private Ryan (1998)                           2653    4.337354\n",
      "Schindler's List (1993)                              2304    4.510417\n",
      "Casablanca (1942)                                    1669    4.412822\n",
      "Dr. Strangelove or: How I Learned to Stop Worry...   1367    4.449890\n",
      "\n",
      "\n"
     ]
    }
   ],
   "source": [
    "def recc_genre_by_popularity(movies,ratings,genre):\n",
    "    movies = movies.copy()\n",
    "    ratings = ratings.copy()\n",
    "    mov_rating=movies.set_index('MovieID').join(ratings.set_index('MovieID'),how ='left',on ='MovieID')\n",
    "    mov_rating =mov_rating[mov_rating['Genres'].str.contains(genre)]\n",
    "    mov_rating['count']=mov_rating['UserID'].groupby(mov_rating['Title']).transform('count')\n",
    "    mov_rating['avg_rating']=mov_rating['Rating'].groupby(mov_rating['Title']).transform('mean')\n",
    "    #only movies that received higher ratings than 90% of all the movies in the genre are considered\n",
    "    cutoff = mov_rating['avg_rating'].quantile(0.8)\n",
    "    mov_rating = mov_rating[mov_rating['avg_rating']>=cutoff].drop(['UserID','Timestamp'],axis=1)\n",
    "    mov_rating_mean = mov_rating.groupby('Title').mean().sort_values(by=['count','Rating'], ascending=False)\n",
    "    return mov_rating_mean.head(5)\n",
    "\n",
    "#testing: only show results for the first two genres\n",
    "for i in genres_list[:2]:\n",
    "    \n",
    "    recc_genre = recc_genre_by_popularity(movies,ratings,i).drop(['Rating'],axis=1)\n",
    "    print('reccomendations for the genre:',i,'\\n')\n",
    "    print(recc_genre.head())\n",
    "    print('\\n')"
   ]
  },
  {
   "cell_type": "markdown",
   "metadata": {
    "id": "xxMiLobAyh_e"
   },
   "source": [
    "# Collaborative filtering"
   ]
  },
  {
   "cell_type": "markdown",
   "metadata": {},
   "source": [
    "SVD is a well-extablished matrix factorization based algorithm. Specifically, SVD decompose a complex m×n matrix into three matrixes, M = U∑V*.  However, SVD cannot be applied directly to matrix with many missing values. An common approach to deal with missing values is imputation. For example, we can fill in the missing ratings with the mean value of user rating. However, imputation increase the amount of data and distort the data due to inaccurate imputation.  Koren et al proposed an algorithm which directly models available rating data, \n",
    "The objective function is defined as follows:\n",
    "\n",
    "$\\sum_{}^{} (r_{ui} -\\left ( \\mu  + b_{u} + b_{i} \\right ))^{2} +\\lambda \\left ( b_{u}^{2} +b_{i}^{2} \\right )$"
   ]
  },
  {
   "cell_type": "code",
   "execution_count": 10,
   "metadata": {
    "id": "qSL6LhvCyh_e"
   },
   "outputs": [],
   "source": [
    "# !pip install scikit-surprise"
   ]
  },
  {
   "cell_type": "code",
   "execution_count": 11,
   "metadata": {
    "id": "viw6_Obiyh_e"
   },
   "outputs": [],
   "source": [
    "from surprise import Reader, Dataset, SVD\n",
    "from surprise.model_selection import cross_validate\n",
    "reader = Reader()\n",
    "data = Dataset.load_from_df(ratings[['UserID', 'MovieID', 'Rating']], reader)"
   ]
  },
  {
   "cell_type": "code",
   "execution_count": 12,
   "metadata": {
    "id": "TQMpUmAOyh_f",
    "outputId": "b04575a8-34a2-4cc4-8001-02ee3cba72bf"
   },
   "outputs": [
    {
     "data": {
      "text/plain": [
       "{'test_rmse': array([0.86788407, 0.8641075 , 0.86743876, 0.86664634, 0.86639098,\n",
       "        0.86659294, 0.86703767, 0.86504927, 0.86191395, 0.86733213]),\n",
       " 'test_mae': array([0.68017162, 0.67761849, 0.67934242, 0.67942749, 0.67943753,\n",
       "        0.6794477 , 0.68011645, 0.67931991, 0.67635695, 0.68078512]),\n",
       " 'fit_time': (60.49817442893982,\n",
       "  60.045353174209595,\n",
       "  63.91104054450989,\n",
       "  60.55002951622009,\n",
       "  61.286060094833374,\n",
       "  59.996570110321045,\n",
       "  61.49649691581726,\n",
       "  60.32887506484985,\n",
       "  59.557671546936035,\n",
       "  60.098212003707886),\n",
       " 'test_time': (1.0352246761322021,\n",
       "  1.1658813953399658,\n",
       "  1.38529634475708,\n",
       "  1.037259817123413,\n",
       "  1.035243272781372,\n",
       "  1.0481979846954346,\n",
       "  1.0452032089233398,\n",
       "  1.08012056350708,\n",
       "  0.972400426864624,\n",
       "  1.0841007232666016)}"
      ]
     },
     "execution_count": 12,
     "metadata": {},
     "output_type": "execute_result"
    }
   ],
   "source": [
    "svd = SVD()\n",
    "cross_validate(svd, data, measures=['RMSE', 'MAE'], cv=10,verbose=False)"
   ]
  },
  {
   "cell_type": "markdown",
   "metadata": {},
   "source": [
    " ## User Based Collabrative Filter Cross Validation\n",
    " "
   ]
  },
  {
   "cell_type": "code",
   "execution_count": 13,
   "metadata": {
    "id": "YyFa2jaKyh_g",
    "outputId": "e2f63afb-776c-457f-ed6d-f0d9a6c11b75"
   },
   "outputs": [
    {
     "name": "stdout",
     "output_type": "stream",
     "text": [
      "Computing the cosine similarity matrix...\n",
      "Done computing similarity matrix.\n",
      "Computing the cosine similarity matrix...\n",
      "Done computing similarity matrix.\n",
      "Computing the cosine similarity matrix...\n",
      "Done computing similarity matrix.\n",
      "Computing the cosine similarity matrix...\n",
      "Done computing similarity matrix.\n",
      "Computing the cosine similarity matrix...\n",
      "Done computing similarity matrix.\n",
      "Computing the cosine similarity matrix...\n",
      "Done computing similarity matrix.\n",
      "Computing the cosine similarity matrix...\n",
      "Done computing similarity matrix.\n",
      "Computing the cosine similarity matrix...\n",
      "Done computing similarity matrix.\n",
      "Computing the cosine similarity matrix...\n",
      "Done computing similarity matrix.\n",
      "Computing the cosine similarity matrix...\n",
      "Done computing similarity matrix.\n"
     ]
    },
    {
     "data": {
      "text/plain": [
       "{'test_rmse': array([0.9699062 , 0.97509635, 0.97570597, 0.97940029, 0.97223726,\n",
       "        0.97675494, 0.97701525, 0.97160571, 0.98008486, 0.97577582]),\n",
       " 'test_mae': array([0.76577174, 0.76917915, 0.77102   , 0.77023031, 0.7664974 ,\n",
       "        0.77030906, 0.77093525, 0.76515559, 0.77249257, 0.77024554]),\n",
       " 'fit_time': (135.3540518283844,\n",
       "  127.99304485321045,\n",
       "  125.97701382637024,\n",
       "  143.4173150062561,\n",
       "  176.80064153671265,\n",
       "  181.56185817718506,\n",
       "  153.73285746574402,\n",
       "  163.16774678230286,\n",
       "  182.0464186668396,\n",
       "  179.94403386116028),\n",
       " 'test_time': (80.80587863922119,\n",
       "  79.03554511070251,\n",
       "  75.7384340763092,\n",
       "  105.66220211982727,\n",
       "  109.06240797042847,\n",
       "  107.11631512641907,\n",
       "  87.67414927482605,\n",
       "  116.5457649230957,\n",
       "  111.34472417831421,\n",
       "  111.87123107910156)}"
      ]
     },
     "execution_count": 13,
     "metadata": {},
     "output_type": "execute_result"
    }
   ],
   "source": [
    "#Cross Validation\n",
    "from surprise import KNNBasic\n",
    "sim_options = {'name': 'cosine',\n",
    "               'user_based': True \n",
    "               }\n",
    "algo_ub = KNNBasic(sim_options=sim_options)\n",
    "cross_validate(algo_ub, data, measures=['RMSE', 'MAE'], cv=10,verbose=False)"
   ]
  },
  {
   "cell_type": "markdown",
   "metadata": {},
   "source": [
    "## User Based Collabrative Filter for new users\n",
    "\n",
    "To speed up the UBCF algorithm in the Dash APP, users data are filtered before calculating cosine_similarity. The general procedures for UBCF are as follows:\n",
    "1.\tGet new user’s rating data (N by 2 list of lists) in the format: [[moviesID1,rating1], [moviesID2,rating2]...[moviesID_N,ratingN]]\n",
    "2.\tFilter ratings data, find moviesIDs in the database that are rated by both the new user and existing users. \n",
    "3.\tTransform filtered rating data into pivot table, fill in empty spaces with 0.\n",
    "4.\tCalculate cosine similarity between new user and old users, find k most similar users (k was set to 3).\n",
    "5.\tCalculate the average ratings of the movies rated by the most similar users from step 4. Filter the movies, only the movies that received more than 50% of ratings than other movies are considered for the final list. \n",
    "6.\tSort movies’ list by ratings, return the movies with highest ratings.\n"
   ]
  },
  {
   "cell_type": "code",
   "execution_count": 16,
   "metadata": {
    "id": "CywMojKDyh_g",
    "outputId": "012d3c9a-3a11-4a5a-a63b-adcdab139983"
   },
   "outputs": [
    {
     "name": "stdout",
     "output_type": "stream",
     "text": [
      "New user: [[1, 5], [2, 5], [3, 4], [4, 0]]\n",
      "found similar users: [223, 731, 308, 310, 1264]\n"
     ]
    }
   ],
   "source": [
    "\n",
    "#create a new user for testing\n",
    "# user_rating_list = [[i+1,i+2] for i in range(3)]\n",
    "user_rating_list = [[1, 5], [2, 5], [3, 4],[4, 1]]# [MovieID, rating]\n",
    "print('New user:',user_rating_list)\n",
    "#---------------------------------------------------\n",
    "new_user_ratings = [i[1] for i in user_rating_list] \n",
    "new_user_movies= [i[0] for i in user_rating_list] \n",
    "new_user_ratings_df =pd.DataFrame(np.array(new_user_ratings).reshape(1,-1),columns=new_user_movies)\n",
    "\n",
    "# find users in the database that also rated the movies rated by new user\n",
    "filtered_ratings = ratings[ratings['MovieID'].isin(new_user_movies)].drop('Timestamp',axis=1)\n",
    "filtered_rating_matrix = filtered_ratings.pivot_table(index='UserID', columns='MovieID', values='Rating').fillna(0)\n",
    "# print(filtered_rating_matrix[:5])\n",
    "\n",
    "\n",
    "def similar_users(new_user_ratings, other_users, k=3):\n",
    "#     https://towardsdatascience.com/build-a-user-based-collaborative-filtering-recommendation-engine-for-anime-92d35921f304\n",
    "    new_user_ratings =new_user_ratings.copy()\n",
    "    # calc cosine similarity between user and each other user\n",
    "    similarities = cosine_similarity(new_user_ratings,other_users)[0].tolist()  \n",
    "    \n",
    "    # create list of indices of these users\n",
    "    indices = other_users.index.tolist()  \n",
    "    # create key/values pairs of user index and their similarity\n",
    "    index_similarity = dict(zip(indices, similarities))\n",
    "    # sort by similarity\n",
    "    index_similarity_sorted = sorted(index_similarity.items(), key=operator.itemgetter(1),reverse =True)\n",
    "    \n",
    "    # grab k users off the top\n",
    "    top_users_similarities = index_similarity_sorted[:k]\n",
    "    users = [u[0] for u in top_users_similarities]\n",
    "    return users\n",
    "\n",
    "similar_user_list= similar_users(new_user_ratings_df,filtered_rating_matrix ,5)\n",
    "print('found similar users:',similar_user_list)"
   ]
  },
  {
   "cell_type": "code",
   "execution_count": 17,
   "metadata": {},
   "outputs": [
    {
     "name": "stdout",
     "output_type": "stream",
     "text": [
      "Reccomended MovieIDs: [527, 1247, 858, 593, 1961, 2997]\n"
     ]
    }
   ],
   "source": [
    "def UBCF_recc_movies(ratings,similar_user_list,k=6):\n",
    "    \n",
    "    similar_ratings =ratings[ratings['UserID'].isin(similar_user_list)].drop('Timestamp',axis=1) \n",
    "    similar_ratings['count']=similar_ratings['UserID'].groupby(similar_ratings['MovieID']).transform('count')\n",
    "    #only movies that received more number of ratings than 80% of all the movies in the genre are considered\n",
    "    cutoff = similar_ratings['count'].quantile(0.8)\n",
    "    similar_ratings = similar_ratings[similar_ratings['count']>=cutoff]\n",
    "    movie_avg_ratings = similar_ratings.groupby('MovieID').mean().sort_values(by=['Rating'], ascending=False).reset_index()\n",
    "#     print(movie_avg_ratings)\n",
    "    movies_list = list(movie_avg_ratings['MovieID'])\n",
    "    return str(movies_list[:6])\n",
    "\n",
    "\n",
    "movies_list = UBCF_recc_movies(ratings,similar_user_list,6)\n",
    "print('Reccomended MovieIDs:',movies_list)"
   ]
  },
  {
   "cell_type": "markdown",
   "metadata": {
    "id": "OiIBypfuyh_h"
   },
   "source": [
    "# References\n",
    "1.\tKaggle Post: Movies Recommender System. https://www.kaggle.com/rounakbanik/movie-recommender-systems\n",
    "2.\tRecommender Systems — User-Based and Item-Based Collaborative Filtering. https://medium.com/@cfpinela/recommender-systems-user-based-and-item-based-collaborative-filtering-5d5f375a127f\n",
    "3.\tKaggle Post: https://www.kaggle.com/rangarajansaranathan/collaborative-filtering-based-recommender-system\n",
    "4.\tYehuda Koren, Collaborative Filtering with Temporal Dynamics. doi:10.1145/1721654.1721677\n",
    "5.\tSurprise documentation, https://surprise.readthedocs.io/en/stable/index.html?highlight=reference\n"
   ]
  },
  {
   "cell_type": "code",
   "execution_count": null,
   "metadata": {},
   "outputs": [],
   "source": []
  }
 ],
 "metadata": {
  "colab": {
   "name": "recc_algorithms.ipynb",
   "provenance": []
  },
  "kernelspec": {
   "display_name": "Python 3",
   "language": "python",
   "name": "python3"
  },
  "language_info": {
   "codemirror_mode": {
    "name": "ipython",
    "version": 3
   },
   "file_extension": ".py",
   "mimetype": "text/x-python",
   "name": "python",
   "nbconvert_exporter": "python",
   "pygments_lexer": "ipython3",
   "version": "3.8.3"
  }
 },
 "nbformat": 4,
 "nbformat_minor": 1
}
